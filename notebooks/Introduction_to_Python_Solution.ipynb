{
  "nbformat": 4,
  "nbformat_minor": 0,
  "metadata": {
    "colab": {
      "name": "Introduction to Python Learning Session Solution.ipynb",
      "provenance": []
    },
    "kernelspec": {
      "display_name": "Python 3",
      "language": "python",
      "name": "python3"
    },
    "language_info": {
      "codemirror_mode": {
        "name": "ipython",
        "version": 3
      },
      "file_extension": ".py",
      "mimetype": "text/x-python",
      "name": "python",
      "nbconvert_exporter": "python",
      "pygments_lexer": "ipython3",
      "version": "3.7.1"
    }
  },
  "cells": [
    {
      "cell_type": "markdown",
      "metadata": {
        "id": "6Ijg5wUCTQYG"
      },
      "source": [
        "<p align=\"center\">\n",
        "<img src=\"https://github.com/adelnehme/introduction-to-python/blob/master/assets/hsbc_datacamp.png?raw=True\" width=\"65%\">\n",
        "</p>\n",
        "\n",
        "<br>\n",
        "\n",
        "## **Introduction to Python Learning Session**\n",
        "\n",
        "\n",
        "\n",
        "#### **Learning Objectives**\n",
        "\n",
        "- Understand the value of Python on the path to developing data fluency\n",
        "- Import data into Python using `pandas` — Python’s most popular data analysis package\n",
        "- Filter, add new columns, and analyze datasets using pandas\n",
        "- Present data visualizations using `Matplotlib` and `Seaborn` — Python’s most popular data visualization\n",
        "packages\n",
        "- A discussion on the long term benefits and use cases for data work with Python\n",
        "\n",
        "#### **The Dataset**\n",
        "\n",
        "The dataset to be used in this session is a CSV file named `telco_churn.csv`, which contains data on telecom customers churning and some of their key behaviors. It contains the following columns:\n",
        "\n",
        "\n",
        "- `customerID`: Unique identifier of a customer.\n",
        "- `gender`: Gender of customer.\n",
        "- `SeniorCitizen`: Binary variable indicating if customer is senior citizen.\n",
        "- `Partner`: Binary variable if customer has a partner.\n",
        "- `tenure`: Number of weeks as a customer.\n",
        "- `PhoneService`: Whether customer has phone service.\n",
        "- `MultipleLines`: Whether customer has multiple lines.\n",
        "- `InternetService`: What type of internet service customer has (`\"DSL\"`, `\"Fiber optic\"`, `\"No\"`).\n",
        "- `OnlineSecurity`: Whether customer has online security service.\n",
        "- `OnlineBackup`: Whether customer has online backup service.\n",
        "- `DeviceProtection`: Whether customer has device protection service.\n",
        "- `TechSupport`: Whether customer has tech support service.\n",
        "- `StreamingTV`: Whether customer has TV streaming service.\n",
        "- `StreamingMovies`: Whether customer has movies streaming service.\n",
        "- `PaymentMethod`: Payment method.\n",
        "- `MonthlyCharges`: Amount of monthly charges in $.\n",
        "- `TotalCharges`: Amount of total charges so far.\n",
        "- `Churn`: Whether customer `'Stayed'` or `'Churned'`.\n",
        "\n",
        "\n",
        "#### **Questions to answer**\n",
        "\n",
        "- **Question 1:** What are the number of churners vs non-churners?\n",
        "- **Question 2:** What is the breakdown of tenure distirbution by churners and non-churners?\n",
        "- **Question 3:** What is the average monthly charge for churners vs non-churners?"
      ]
    },
    {
      "cell_type": "markdown",
      "metadata": {
        "id": "BMYfcKeDY85K"
      },
      "source": [
        "## **Getting started**"
      ]
    },
    {
      "cell_type": "code",
      "metadata": {
        "id": "EMQfyC7GUNhT"
      },
      "source": [
        "# Import libraries\n",
        "import pandas as pd\n",
        "import matplotlib.pyplot as plt\n",
        "import seaborn as sns"
      ],
      "execution_count": null,
      "outputs": []
    },
    {
      "cell_type": "markdown",
      "metadata": {
        "id": "smK0XDOMv8oA"
      },
      "source": [
        "*To import a CSV file into* `pandas` , *we use*  `data = pd.read_csv(file_path)` *check out this [documentation](https://pandas.pydata.org/pandas-docs/stable/user_guide/io.html) for importing other data types*\n"
      ]
    },
    {
      "cell_type": "code",
      "metadata": {
        "id": "l8t_EwRNZPLB"
      },
      "source": [
        "# Read in the dataset\n",
        "telco = pd.read_csv('https://github.com/adelnehme/introduction-to-python/blob/master/data/telco_churn.csv?raw=true')"
      ],
      "execution_count": null,
      "outputs": []
    },
    {
      "cell_type": "markdown",
      "metadata": {
        "id": "d1G5RybDwLoT"
      },
      "source": [
        "*Some common methods needed to get a better understanding of your DataFrames:*\n",
        "\n",
        "- `data.head()` *prints the first 5 rows*\n",
        "- `data.describe()` *prints the distribution of numeric columns*\n",
        "- `data.info()` *prints the missingness and data types of columns*"
      ]
    },
    {
      "cell_type": "code",
      "metadata": {
        "id": "pU0z39Auwprv",
        "outputId": "5a8701f4-ba31-463b-d170-7c4428c485af",
        "colab": {
          "base_uri": "https://localhost:8080/",
          "height": 258
        }
      },
      "source": [
        "# Inspect header of dataset\n",
        "telco.head()"
      ],
      "execution_count": null,
      "outputs": [
        {
          "output_type": "execute_result",
          "data": {
            "text/html": [
              "<div>\n",
              "<style scoped>\n",
              "    .dataframe tbody tr th:only-of-type {\n",
              "        vertical-align: middle;\n",
              "    }\n",
              "\n",
              "    .dataframe tbody tr th {\n",
              "        vertical-align: top;\n",
              "    }\n",
              "\n",
              "    .dataframe thead th {\n",
              "        text-align: right;\n",
              "    }\n",
              "</style>\n",
              "<table border=\"1\" class=\"dataframe\">\n",
              "  <thead>\n",
              "    <tr style=\"text-align: right;\">\n",
              "      <th></th>\n",
              "      <th>customerID</th>\n",
              "      <th>gender</th>\n",
              "      <th>SeniorCitizen</th>\n",
              "      <th>Partner</th>\n",
              "      <th>tenure</th>\n",
              "      <th>PhoneService</th>\n",
              "      <th>MultipleLines</th>\n",
              "      <th>InternetService</th>\n",
              "      <th>OnlineSecurity</th>\n",
              "      <th>OnlineBackup</th>\n",
              "      <th>DeviceProtection</th>\n",
              "      <th>TechSupport</th>\n",
              "      <th>StreamingTV</th>\n",
              "      <th>StreamingMovies</th>\n",
              "      <th>PaymentMethod</th>\n",
              "      <th>MonthlyCharges</th>\n",
              "      <th>TotalCharges</th>\n",
              "      <th>Churn</th>\n",
              "    </tr>\n",
              "  </thead>\n",
              "  <tbody>\n",
              "    <tr>\n",
              "      <th>0</th>\n",
              "      <td>7590-VHVEG</td>\n",
              "      <td>Female</td>\n",
              "      <td>No</td>\n",
              "      <td>Yes</td>\n",
              "      <td>1</td>\n",
              "      <td>No</td>\n",
              "      <td>No phone service</td>\n",
              "      <td>DSL</td>\n",
              "      <td>No</td>\n",
              "      <td>Yes</td>\n",
              "      <td>No</td>\n",
              "      <td>No</td>\n",
              "      <td>No</td>\n",
              "      <td>No</td>\n",
              "      <td>Electronic check</td>\n",
              "      <td>29.85$</td>\n",
              "      <td>29.85</td>\n",
              "      <td>Stayed</td>\n",
              "    </tr>\n",
              "    <tr>\n",
              "      <th>1</th>\n",
              "      <td>5575-GNVDE</td>\n",
              "      <td>Male</td>\n",
              "      <td>No</td>\n",
              "      <td>No</td>\n",
              "      <td>34</td>\n",
              "      <td>Yes</td>\n",
              "      <td>No</td>\n",
              "      <td>DSL</td>\n",
              "      <td>Yes</td>\n",
              "      <td>No</td>\n",
              "      <td>Yes</td>\n",
              "      <td>No</td>\n",
              "      <td>No</td>\n",
              "      <td>No</td>\n",
              "      <td>Mailed check</td>\n",
              "      <td>56.95$</td>\n",
              "      <td>1889.50</td>\n",
              "      <td>Stayed</td>\n",
              "    </tr>\n",
              "    <tr>\n",
              "      <th>2</th>\n",
              "      <td>3668-QPYBK</td>\n",
              "      <td>Male</td>\n",
              "      <td>No</td>\n",
              "      <td>No</td>\n",
              "      <td>2</td>\n",
              "      <td>Yes</td>\n",
              "      <td>No</td>\n",
              "      <td>DSL</td>\n",
              "      <td>Yes</td>\n",
              "      <td>Yes</td>\n",
              "      <td>No</td>\n",
              "      <td>No</td>\n",
              "      <td>No</td>\n",
              "      <td>No</td>\n",
              "      <td>Mailed check</td>\n",
              "      <td>53.85$</td>\n",
              "      <td>108.15</td>\n",
              "      <td>Churned</td>\n",
              "    </tr>\n",
              "    <tr>\n",
              "      <th>3</th>\n",
              "      <td>7795-CFOCW</td>\n",
              "      <td>Male</td>\n",
              "      <td>No</td>\n",
              "      <td>No</td>\n",
              "      <td>45</td>\n",
              "      <td>No</td>\n",
              "      <td>No phone service</td>\n",
              "      <td>DSL</td>\n",
              "      <td>Yes</td>\n",
              "      <td>No</td>\n",
              "      <td>Yes</td>\n",
              "      <td>Yes</td>\n",
              "      <td>No</td>\n",
              "      <td>No</td>\n",
              "      <td>Bank transfer (automatic)</td>\n",
              "      <td>42.3$</td>\n",
              "      <td>1840.75</td>\n",
              "      <td>Stayed</td>\n",
              "    </tr>\n",
              "    <tr>\n",
              "      <th>4</th>\n",
              "      <td>9237-HQITU</td>\n",
              "      <td>Female</td>\n",
              "      <td>No</td>\n",
              "      <td>No</td>\n",
              "      <td>2</td>\n",
              "      <td>Yes</td>\n",
              "      <td>No</td>\n",
              "      <td>Fiber optic</td>\n",
              "      <td>No</td>\n",
              "      <td>No</td>\n",
              "      <td>No</td>\n",
              "      <td>No</td>\n",
              "      <td>No</td>\n",
              "      <td>No</td>\n",
              "      <td>Electronic check</td>\n",
              "      <td>70.7$</td>\n",
              "      <td>151.65</td>\n",
              "      <td>Churned</td>\n",
              "    </tr>\n",
              "  </tbody>\n",
              "</table>\n",
              "</div>"
            ],
            "text/plain": [
              "   customerID  gender SeniorCitizen  ... MonthlyCharges  TotalCharges    Churn\n",
              "0  7590-VHVEG  Female            No  ...         29.85$         29.85   Stayed\n",
              "1  5575-GNVDE    Male            No  ...         56.95$       1889.50   Stayed\n",
              "2  3668-QPYBK    Male            No  ...         53.85$        108.15  Churned\n",
              "3  7795-CFOCW    Male            No  ...          42.3$       1840.75   Stayed\n",
              "4  9237-HQITU  Female            No  ...          70.7$        151.65  Churned\n",
              "\n",
              "[5 rows x 18 columns]"
            ]
          },
          "metadata": {
            "tags": []
          },
          "execution_count": 6
        }
      ]
    },
    {
      "cell_type": "markdown",
      "metadata": {
        "id": "y8rytwNvwyCE"
      },
      "source": [
        "* _**Problem 1:** Taking a look at the_ `MonthlyCharges` _column, it seems it's not a numeric data type since there is a `$` sign_"
      ]
    },
    {
      "cell_type": "code",
      "metadata": {
        "id": "Y_M_kCw6w6cX",
        "outputId": "62a80f4d-62e0-4a82-93a2-bacdf01fc8b9",
        "colab": {
          "base_uri": "https://localhost:8080/",
          "height": 297
        }
      },
      "source": [
        "# Check description of dataset\n",
        "telco.describe()"
      ],
      "execution_count": null,
      "outputs": [
        {
          "output_type": "execute_result",
          "data": {
            "text/html": [
              "<div>\n",
              "<style scoped>\n",
              "    .dataframe tbody tr th:only-of-type {\n",
              "        vertical-align: middle;\n",
              "    }\n",
              "\n",
              "    .dataframe tbody tr th {\n",
              "        vertical-align: top;\n",
              "    }\n",
              "\n",
              "    .dataframe thead th {\n",
              "        text-align: right;\n",
              "    }\n",
              "</style>\n",
              "<table border=\"1\" class=\"dataframe\">\n",
              "  <thead>\n",
              "    <tr style=\"text-align: right;\">\n",
              "      <th></th>\n",
              "      <th>tenure</th>\n",
              "      <th>TotalCharges</th>\n",
              "    </tr>\n",
              "  </thead>\n",
              "  <tbody>\n",
              "    <tr>\n",
              "      <th>count</th>\n",
              "      <td>7043.000000</td>\n",
              "      <td>7043.000000</td>\n",
              "    </tr>\n",
              "    <tr>\n",
              "      <th>mean</th>\n",
              "      <td>32.371149</td>\n",
              "      <td>2281.916928</td>\n",
              "    </tr>\n",
              "    <tr>\n",
              "      <th>std</th>\n",
              "      <td>24.559481</td>\n",
              "      <td>2265.270398</td>\n",
              "    </tr>\n",
              "    <tr>\n",
              "      <th>min</th>\n",
              "      <td>0.000000</td>\n",
              "      <td>18.800000</td>\n",
              "    </tr>\n",
              "    <tr>\n",
              "      <th>25%</th>\n",
              "      <td>9.000000</td>\n",
              "      <td>402.225000</td>\n",
              "    </tr>\n",
              "    <tr>\n",
              "      <th>50%</th>\n",
              "      <td>29.000000</td>\n",
              "      <td>1397.475000</td>\n",
              "    </tr>\n",
              "    <tr>\n",
              "      <th>75%</th>\n",
              "      <td>55.000000</td>\n",
              "      <td>3786.600000</td>\n",
              "    </tr>\n",
              "    <tr>\n",
              "      <th>max</th>\n",
              "      <td>72.000000</td>\n",
              "      <td>8684.800000</td>\n",
              "    </tr>\n",
              "  </tbody>\n",
              "</table>\n",
              "</div>"
            ],
            "text/plain": [
              "            tenure  TotalCharges\n",
              "count  7043.000000   7043.000000\n",
              "mean     32.371149   2281.916928\n",
              "std      24.559481   2265.270398\n",
              "min       0.000000     18.800000\n",
              "25%       9.000000    402.225000\n",
              "50%      29.000000   1397.475000\n",
              "75%      55.000000   3786.600000\n",
              "max      72.000000   8684.800000"
            ]
          },
          "metadata": {
            "tags": []
          },
          "execution_count": 7
        }
      ]
    },
    {
      "cell_type": "code",
      "metadata": {
        "id": "Hj9dx1vLyN6M",
        "outputId": "1d0ad885-a0da-4fb4-f1b0-65bc1b0a06cb",
        "colab": {
          "base_uri": "https://localhost:8080/"
        }
      },
      "source": [
        "# Check information of dataset\n",
        "telco.info()"
      ],
      "execution_count": null,
      "outputs": [
        {
          "output_type": "stream",
          "text": [
            "<class 'pandas.core.frame.DataFrame'>\n",
            "RangeIndex: 7043 entries, 0 to 7042\n",
            "Data columns (total 18 columns):\n",
            " #   Column            Non-Null Count  Dtype  \n",
            "---  ------            --------------  -----  \n",
            " 0   customerID        7028 non-null   object \n",
            " 1   gender            7043 non-null   object \n",
            " 2   SeniorCitizen     7043 non-null   object \n",
            " 3   Partner           7043 non-null   object \n",
            " 4   tenure            7043 non-null   int64  \n",
            " 5   PhoneService      7043 non-null   object \n",
            " 6   MultipleLines     7043 non-null   object \n",
            " 7   InternetService   7043 non-null   object \n",
            " 8   OnlineSecurity    7035 non-null   object \n",
            " 9   OnlineBackup      7043 non-null   object \n",
            " 10  DeviceProtection  7043 non-null   object \n",
            " 11  TechSupport       7043 non-null   object \n",
            " 12  StreamingTV       7043 non-null   object \n",
            " 13  StreamingMovies   7043 non-null   object \n",
            " 14  PaymentMethod     7043 non-null   object \n",
            " 15  MonthlyCharges    7043 non-null   object \n",
            " 16  TotalCharges      7043 non-null   float64\n",
            " 17  Churn             7043 non-null   object \n",
            "dtypes: float64(1), int64(1), object(16)\n",
            "memory usage: 990.5+ KB\n"
          ],
          "name": "stdout"
        }
      ]
    },
    {
      "cell_type": "markdown",
      "metadata": {
        "id": "geSFMdoxyULG"
      },
      "source": [
        "* _**Problem 2:** There seems to be missing values in the_ `customerID` & `OnlineSecurity` _columns._"
      ]
    },
    {
      "cell_type": "markdown",
      "metadata": {
        "id": "yls2Ua9vzVX6"
      },
      "source": [
        "\n",
        "\n",
        "---\n",
        "\n",
        "<center><h1> Q&A 1</h1> </center>\n",
        "\n",
        "---\n",
        "\n",
        "\n",
        "\n"
      ]
    },
    {
      "cell_type": "markdown",
      "metadata": {
        "id": "PlvGwVrCyq_8"
      },
      "source": [
        "## **Data Cleaning**"
      ]
    },
    {
      "cell_type": "markdown",
      "metadata": {
        "id": "7LacdNilzAJx"
      },
      "source": [
        "##### **Task 1:** Remove `$` from `MonthlyCharges` and convert it to `float`\n",
        "\n",
        "_To remove a character from a string column, we can use:_\n",
        "\n",
        "```\n",
        "data['column_name'] = data['column_name'].str.strip(character)\n",
        "```\n",
        "\n",
        "_To convert a numeric column to a float, we can use:_\n",
        "\n",
        "```\n",
        "data['column_name'] = data['column_name'].astype('float')\n",
        "```\n"
      ]
    },
    {
      "cell_type": "code",
      "metadata": {
        "id": "64dzRjvozJ6D",
        "outputId": "d53e4569-fadb-47cf-f863-650b7cab980e",
        "colab": {
          "base_uri": "https://localhost:8080/",
          "height": 258
        }
      },
      "source": [
        "# Strip $ from MonthlyCharges column\n",
        "telco['MonthlyCharges'] = telco['MonthlyCharges'].str.strip('$')\n",
        "\n",
        "# Convert MonthlyCharges column to float\n",
        "telco['MonthlyCharges'] = telco['MonthlyCharges'].astype('float')\n",
        "\n",
        "# Print header again\n",
        "telco.head()"
      ],
      "execution_count": null,
      "outputs": [
        {
          "output_type": "execute_result",
          "data": {
            "text/html": [
              "<div>\n",
              "<style scoped>\n",
              "    .dataframe tbody tr th:only-of-type {\n",
              "        vertical-align: middle;\n",
              "    }\n",
              "\n",
              "    .dataframe tbody tr th {\n",
              "        vertical-align: top;\n",
              "    }\n",
              "\n",
              "    .dataframe thead th {\n",
              "        text-align: right;\n",
              "    }\n",
              "</style>\n",
              "<table border=\"1\" class=\"dataframe\">\n",
              "  <thead>\n",
              "    <tr style=\"text-align: right;\">\n",
              "      <th></th>\n",
              "      <th>customerID</th>\n",
              "      <th>gender</th>\n",
              "      <th>SeniorCitizen</th>\n",
              "      <th>Partner</th>\n",
              "      <th>tenure</th>\n",
              "      <th>PhoneService</th>\n",
              "      <th>MultipleLines</th>\n",
              "      <th>InternetService</th>\n",
              "      <th>OnlineSecurity</th>\n",
              "      <th>OnlineBackup</th>\n",
              "      <th>DeviceProtection</th>\n",
              "      <th>TechSupport</th>\n",
              "      <th>StreamingTV</th>\n",
              "      <th>StreamingMovies</th>\n",
              "      <th>PaymentMethod</th>\n",
              "      <th>MonthlyCharges</th>\n",
              "      <th>TotalCharges</th>\n",
              "      <th>Churn</th>\n",
              "    </tr>\n",
              "  </thead>\n",
              "  <tbody>\n",
              "    <tr>\n",
              "      <th>0</th>\n",
              "      <td>7590-VHVEG</td>\n",
              "      <td>Female</td>\n",
              "      <td>No</td>\n",
              "      <td>Yes</td>\n",
              "      <td>1</td>\n",
              "      <td>No</td>\n",
              "      <td>No phone service</td>\n",
              "      <td>DSL</td>\n",
              "      <td>No</td>\n",
              "      <td>Yes</td>\n",
              "      <td>No</td>\n",
              "      <td>No</td>\n",
              "      <td>No</td>\n",
              "      <td>No</td>\n",
              "      <td>Electronic check</td>\n",
              "      <td>29.85</td>\n",
              "      <td>29.85</td>\n",
              "      <td>Stayed</td>\n",
              "    </tr>\n",
              "    <tr>\n",
              "      <th>1</th>\n",
              "      <td>5575-GNVDE</td>\n",
              "      <td>Male</td>\n",
              "      <td>No</td>\n",
              "      <td>No</td>\n",
              "      <td>34</td>\n",
              "      <td>Yes</td>\n",
              "      <td>No</td>\n",
              "      <td>DSL</td>\n",
              "      <td>Yes</td>\n",
              "      <td>No</td>\n",
              "      <td>Yes</td>\n",
              "      <td>No</td>\n",
              "      <td>No</td>\n",
              "      <td>No</td>\n",
              "      <td>Mailed check</td>\n",
              "      <td>56.95</td>\n",
              "      <td>1889.50</td>\n",
              "      <td>Stayed</td>\n",
              "    </tr>\n",
              "    <tr>\n",
              "      <th>2</th>\n",
              "      <td>3668-QPYBK</td>\n",
              "      <td>Male</td>\n",
              "      <td>No</td>\n",
              "      <td>No</td>\n",
              "      <td>2</td>\n",
              "      <td>Yes</td>\n",
              "      <td>No</td>\n",
              "      <td>DSL</td>\n",
              "      <td>Yes</td>\n",
              "      <td>Yes</td>\n",
              "      <td>No</td>\n",
              "      <td>No</td>\n",
              "      <td>No</td>\n",
              "      <td>No</td>\n",
              "      <td>Mailed check</td>\n",
              "      <td>53.85</td>\n",
              "      <td>108.15</td>\n",
              "      <td>Churned</td>\n",
              "    </tr>\n",
              "    <tr>\n",
              "      <th>3</th>\n",
              "      <td>7795-CFOCW</td>\n",
              "      <td>Male</td>\n",
              "      <td>No</td>\n",
              "      <td>No</td>\n",
              "      <td>45</td>\n",
              "      <td>No</td>\n",
              "      <td>No phone service</td>\n",
              "      <td>DSL</td>\n",
              "      <td>Yes</td>\n",
              "      <td>No</td>\n",
              "      <td>Yes</td>\n",
              "      <td>Yes</td>\n",
              "      <td>No</td>\n",
              "      <td>No</td>\n",
              "      <td>Bank transfer (automatic)</td>\n",
              "      <td>42.30</td>\n",
              "      <td>1840.75</td>\n",
              "      <td>Stayed</td>\n",
              "    </tr>\n",
              "    <tr>\n",
              "      <th>4</th>\n",
              "      <td>9237-HQITU</td>\n",
              "      <td>Female</td>\n",
              "      <td>No</td>\n",
              "      <td>No</td>\n",
              "      <td>2</td>\n",
              "      <td>Yes</td>\n",
              "      <td>No</td>\n",
              "      <td>Fiber optic</td>\n",
              "      <td>No</td>\n",
              "      <td>No</td>\n",
              "      <td>No</td>\n",
              "      <td>No</td>\n",
              "      <td>No</td>\n",
              "      <td>No</td>\n",
              "      <td>Electronic check</td>\n",
              "      <td>70.70</td>\n",
              "      <td>151.65</td>\n",
              "      <td>Churned</td>\n",
              "    </tr>\n",
              "  </tbody>\n",
              "</table>\n",
              "</div>"
            ],
            "text/plain": [
              "   customerID  gender SeniorCitizen  ... MonthlyCharges  TotalCharges    Churn\n",
              "0  7590-VHVEG  Female            No  ...          29.85         29.85   Stayed\n",
              "1  5575-GNVDE    Male            No  ...          56.95       1889.50   Stayed\n",
              "2  3668-QPYBK    Male            No  ...          53.85        108.15  Churned\n",
              "3  7795-CFOCW    Male            No  ...          42.30       1840.75   Stayed\n",
              "4  9237-HQITU  Female            No  ...          70.70        151.65  Churned\n",
              "\n",
              "[5 rows x 18 columns]"
            ]
          },
          "metadata": {
            "tags": []
          },
          "execution_count": 9
        }
      ]
    },
    {
      "cell_type": "markdown",
      "metadata": {
        "id": "TK062oeazbWO"
      },
      "source": [
        "##### **Task 2:** Drop rows with `CustomerID` missing values\n",
        "\n",
        "_To count and drop missing values in a DataFrame, you can use the following:_\n",
        "\n",
        "- `data.isna().sum()` _to count missing values_\n",
        "- `data.dropna(subset = [column_names])` _drops missing values from specific columns_"
      ]
    },
    {
      "cell_type": "code",
      "metadata": {
        "id": "oZvKyJdZzpvD",
        "outputId": "4ecc2127-881b-40cc-cd3f-ebeef30eca3f",
        "colab": {
          "base_uri": "https://localhost:8080/"
        }
      },
      "source": [
        "# Drop missing values from customerID in Telco\n",
        "telco = telco.dropna(subset = ['customerID'])\n",
        "\n",
        "# Count missing values again\n",
        "telco.isna().sum()"
      ],
      "execution_count": null,
      "outputs": [
        {
          "output_type": "execute_result",
          "data": {
            "text/plain": [
              "customerID          0\n",
              "gender              0\n",
              "SeniorCitizen       0\n",
              "Partner             0\n",
              "tenure              0\n",
              "PhoneService        0\n",
              "MultipleLines       0\n",
              "InternetService     0\n",
              "OnlineSecurity      0\n",
              "OnlineBackup        0\n",
              "DeviceProtection    0\n",
              "TechSupport         0\n",
              "StreamingTV         0\n",
              "StreamingMovies     0\n",
              "PaymentMethod       0\n",
              "MonthlyCharges      0\n",
              "TotalCharges        0\n",
              "Churn               0\n",
              "dtype: int64"
            ]
          },
          "metadata": {
            "tags": []
          },
          "execution_count": 17
        }
      ]
    },
    {
      "cell_type": "markdown",
      "metadata": {
        "id": "8Y0G-7OxziZc"
      },
      "source": [
        "##### **Task 3:** Replace missing values in `OnlineSecurity` with `'No'`\n",
        "\n",
        "_To fill missing values in a specific column in a DataFrame, you can use the following:_\n",
        "\n",
        "```\n",
        "data['column_name] = data['column_name].fillna('value') \n",
        "```"
      ]
    },
    {
      "cell_type": "code",
      "metadata": {
        "id": "9TlEILaszakr"
      },
      "source": [
        "# Replace missing values from OnlineSecurity in Telco with 'No'\n",
        "telco['OnlineSecurity'] = telco['OnlineSecurity'].fillna('No')\n",
        "\n",
        "# Count missing values again\n",
        "telco.isna().sum()"
      ],
      "execution_count": null,
      "outputs": []
    },
    {
      "cell_type": "markdown",
      "metadata": {
        "id": "biFEI7NK2ZyW"
      },
      "source": [
        "\n",
        "\n",
        "---\n",
        "\n",
        "<center><h1> Q&A 2</h1> </center>\n",
        "\n",
        "---\n",
        "\n",
        "\n",
        "\n"
      ]
    },
    {
      "cell_type": "markdown",
      "metadata": {
        "id": "tTDj6-W32fci"
      },
      "source": [
        "## **Data Analysis and Visualization**"
      ]
    },
    {
      "cell_type": "markdown",
      "metadata": {
        "id": "rR10sci22nUd"
      },
      "source": [
        "**Question 1:** What are the number of churners vs non-churners?\n",
        "\n",
        "_A convenient way of counting differet values in a column using_ `pandas` _is by using:_\n",
        "\n",
        "```\n",
        "data['column_name`].value_counts()\n",
        "```\n",
        "\n",
        "_Note that this method works on **columns** only_"
      ]
    },
    {
      "cell_type": "code",
      "metadata": {
        "id": "yPL7xsCa2mf8",
        "outputId": "6541f722-bea6-4ae0-afec-eea53590cac5",
        "colab": {
          "base_uri": "https://localhost:8080/"
        }
      },
      "source": [
        "# Count the number of churners vs non-churners\n",
        "telco['Churn'].value_counts()"
      ],
      "execution_count": null,
      "outputs": [
        {
          "output_type": "execute_result",
          "data": {
            "text/plain": [
              "Stayed     5165\n",
              "Churned    1863\n",
              "Name: Churn, dtype: int64"
            ]
          },
          "metadata": {
            "tags": []
          },
          "execution_count": 20
        }
      ]
    },
    {
      "cell_type": "code",
      "metadata": {
        "id": "m-7aiQ1p35ri",
        "outputId": "ce113e42-791e-45f6-80f2-ddabd35d06b7",
        "colab": {
          "base_uri": "https://localhost:8080/"
        }
      },
      "source": [
        "# Count the percentage of churners vs non-churners\n",
        "telco['Churn'].value_counts(normalize = True)"
      ],
      "execution_count": null,
      "outputs": [
        {
          "output_type": "execute_result",
          "data": {
            "text/plain": [
              "Stayed     0.734917\n",
              "Churned    0.265083\n",
              "Name: Churn, dtype: float64"
            ]
          },
          "metadata": {
            "tags": []
          },
          "execution_count": 23
        }
      ]
    },
    {
      "cell_type": "markdown",
      "metadata": {
        "id": "AMN0MbEh4EnG"
      },
      "source": [
        "_To easily show the count of observations in each category using_ `seaborn` _we can use:_\n",
        "\n",
        "- `sns.countplot(x = , data = )`\n",
        "  - `x`: _categorical column name on x-axis_\n",
        "  - `data`: _data being used_\n",
        "- `plt.title()`:  _sets plot title_\n",
        "- `plt.xlabel()`: _sets x-axis label_\n",
        "- `plt.ylabel()`: _sets y-axis label_\n",
        "- `plt.show()`:  _shows plot_"
      ]
    },
    {
      "cell_type": "code",
      "metadata": {
        "id": "TMsDXzSZ4UvS",
        "outputId": "efb94236-6e09-49e0-9f02-d9c5769afacd",
        "colab": {
          "base_uri": "https://localhost:8080/",
          "height": 295
        }
      },
      "source": [
        "# Count the amount of churners vs non-churners\n",
        "sns.countplot(x = 'Churn', data = telco)\n",
        "\n",
        "# Set titles and labels of plot\n",
        "plt.title('Churners vs non-churners')\n",
        "plt.ylabel('Number of customers')\n",
        "plt.xlabel('Churn')\n",
        "\n",
        "# Show plot\n",
        "plt.show()"
      ],
      "execution_count": null,
      "outputs": [
        {
          "output_type": "display_data",
          "data": {
            "image/png": "[encoded data removed]",
            "text/plain": [
              "<Figure size 432x288 with 1 Axes>"
            ]
          },
          "metadata": {
            "tags": [],
            "needs_background": "light"
          }
        }
      ]
    },
    {
      "cell_type": "markdown",
      "metadata": {
        "id": "liNMV1cD5xpT"
      },
      "source": [
        "\n",
        "\n",
        "---\n",
        "\n",
        "<center><h1> Q&A 3</h1> </center>\n",
        "\n",
        "---\n",
        "\n",
        "\n",
        "\n"
      ]
    },
    {
      "cell_type": "markdown",
      "metadata": {
        "id": "CPxZmCqQ4jld"
      },
      "source": [
        "**Question 2:** What is the breakdown of tenure distirbution by churners and non-churners?\n",
        "\n",
        "<p align=\"center\">\n",
        "<img src=\"https://github.com/adelnehme/introduction-to-python/blob/master/assets/boxplot.png?raw=true\" alt = \"boxplot\" width=\"65%\">\n",
        "</p>\n",
        "\n",
        "_To create a boxplot using_ `seaborn` _we can use:_\n",
        "\n",
        "- `sns.boxplot(x = , y = , data = )`\n",
        "  - `x`: _column name on x-axis_\n",
        "  - `y`: _column name on y-axis_\n",
        "  - `data`: _data being used_\n",
        "- `plt.title()`: _sets plot title_\n",
        "- `plt.xlabel()`: _sets x-axis label_\n",
        "- `plt.ylabel()`: _sets y-axis label_\n",
        "- `plt.show()`: _shows plot_"
      ]
    },
    {
      "cell_type": "code",
      "metadata": {
        "id": "q5lrTEYR5UBX",
        "outputId": "597494a9-2423-4b78-e8f3-250935b3d834",
        "colab": {
          "base_uri": "https://localhost:8080/",
          "height": 404
        }
      },
      "source": [
        "# Set figure size for easy viewing\n",
        "plt.figure(figsize = (8,6))\n",
        "\n",
        "# Create plot\n",
        "sns.boxplot(x = 'Churn', y = 'tenure', data = telco)\n",
        "\n",
        "# Set titles and labels of plot\n",
        "plt.title('Distribution of tenure by churn')\n",
        "plt.ylabel('Tenur in months')\n",
        "plt.xlabel('Churn')\n",
        "\n",
        "# Show plot\n",
        "plt.show()"
      ],
      "execution_count": null,
      "outputs": [
        {
          "output_type": "display_data",
          "data": {
            "image/png": "[encoded data removed]",
            "text/plain": [
              "<Figure size 576x432 with 1 Axes>"
            ]
          },
          "metadata": {
            "tags": [],
            "needs_background": "light"
          }
        }
      ]
    },
    {
      "cell_type": "markdown",
      "metadata": {
        "id": "dMRG7_7f5z4Z"
      },
      "source": [
        "\n",
        "\n",
        "---\n",
        "\n",
        "<center><h1> Q&A 4</h1> </center>\n",
        "\n",
        "---\n",
        "\n",
        "\n",
        "\n"
      ]
    },
    {
      "cell_type": "markdown",
      "metadata": {
        "id": "mb3GLkA96utz"
      },
      "source": [
        "**Question 3:** What is the average monthly charge for churners vs non-churners?\n"
      ]
    },
    {
      "cell_type": "markdown",
      "metadata": {
        "id": "OxmMy48U86G0"
      },
      "source": [
        "*Similar to pivot tables, we can aggregate data around a column in a DataFrame using the* `.groupby()` *method and chaining it with the summary statistics of choice. For example, we can group by* `col_A` *in* `df_1` *and extract the mean of remaining numeric columns using:* \n",
        "\n",
        "```\n",
        "grouped_dataframe = df_1.groupby('col_A').mean()\n",
        "```"
      ]
    },
    {
      "cell_type": "code",
      "metadata": {
        "id": "5s_EQKkT6qlD",
        "outputId": "fe8f7d59-9447-4247-e106-72a9820f0d1f",
        "colab": {
          "base_uri": "https://localhost:8080/",
          "height": 111
        }
      },
      "source": [
        "# Group by Churn and derive mean MonthlyCharges\n",
        "telco_grouped = telco.groupby('Churn').mean().reset_index()\n",
        "\n",
        "# Show output\n",
        "telco_grouped"
      ],
      "execution_count": null,
      "outputs": [
        {
          "output_type": "execute_result",
          "data": {
            "text/html": [
              "<div>\n",
              "<style scoped>\n",
              "    .dataframe tbody tr th:only-of-type {\n",
              "        vertical-align: middle;\n",
              "    }\n",
              "\n",
              "    .dataframe tbody tr th {\n",
              "        vertical-align: top;\n",
              "    }\n",
              "\n",
              "    .dataframe thead th {\n",
              "        text-align: right;\n",
              "    }\n",
              "</style>\n",
              "<table border=\"1\" class=\"dataframe\">\n",
              "  <thead>\n",
              "    <tr style=\"text-align: right;\">\n",
              "      <th></th>\n",
              "      <th>Churn</th>\n",
              "      <th>tenure</th>\n",
              "      <th>MonthlyCharges</th>\n",
              "      <th>TotalCharges</th>\n",
              "    </tr>\n",
              "  </thead>\n",
              "  <tbody>\n",
              "    <tr>\n",
              "      <th>0</th>\n",
              "      <td>Churned</td>\n",
              "      <td>18.008052</td>\n",
              "      <td>74.494418</td>\n",
              "      <td>1534.839962</td>\n",
              "    </tr>\n",
              "    <tr>\n",
              "      <th>1</th>\n",
              "      <td>Stayed</td>\n",
              "      <td>37.545015</td>\n",
              "      <td>61.260445</td>\n",
              "      <td>2551.620334</td>\n",
              "    </tr>\n",
              "  </tbody>\n",
              "</table>\n",
              "</div>"
            ],
            "text/plain": [
              "     Churn     tenure  MonthlyCharges  TotalCharges\n",
              "0  Churned  18.008052       74.494418   1534.839962\n",
              "1   Stayed  37.545015       61.260445   2551.620334"
            ]
          },
          "metadata": {
            "tags": []
          },
          "execution_count": 41
        }
      ]
    },
    {
      "cell_type": "markdown",
      "metadata": {
        "id": "Ix36BFpX98_z"
      },
      "source": [
        "_To create a barplot using_ `seaborn` _we can use:_\n",
        "\n",
        "- `sns.barplot(x = , y = , data = )`\n",
        "  - `x`: _column name on x-axis_\n",
        "  - `y`: _column name on y-axis_\n",
        "  - `data`: _data being used_\n",
        "\n",
        "_To customize plots using_ `matplotlib` _we can use:_\n",
        "\n",
        "- `plt.title()`: _sets plot title_\n",
        "- `plt.xlabel()`: _sets x-axis label_\n",
        "- `plt.ylabel()`: _sets y-axis label_\n",
        "- `plt.show()`: _shows plot_\n"
      ]
    },
    {
      "cell_type": "code",
      "metadata": {
        "id": "n-BAAROo75hX",
        "outputId": "b1baa8de-c03b-4bf1-b76d-f459af570511",
        "colab": {
          "base_uri": "https://localhost:8080/",
          "height": 295
        }
      },
      "source": [
        "# Visualize the results\n",
        "sns.barplot(x = 'Churn', y = 'MonthlyCharges', data = telco_grouped)\n",
        "\n",
        "# Customize output\n",
        "plt.xlabel(\"Churn\")\n",
        "plt.ylabel(\"Average Monthly Charges\")\n",
        "plt.title(\"Average Monthly Charges for churners vs non-churners\")\n",
        "plt.show()"
      ],
      "execution_count": null,
      "outputs": [
        {
          "output_type": "display_data",
          "data": {
            "image/png": "[encoded data removed]",
            "text/plain": [
              "<Figure size 432x288 with 1 Axes>"
            ]
          },
          "metadata": {
            "tags": [],
            "needs_background": "light"
          }
        }
      ]
    },
    {
      "cell_type": "markdown",
      "metadata": {
        "id": "7ChZJPuT-3ti"
      },
      "source": [
        "\n",
        "\n",
        "---\n",
        "\n",
        "<center><h1> Q&A 5</h1> </center>\n",
        "\n",
        "---\n",
        "\n",
        "\n",
        "\n"
      ]
    }
  ]
}