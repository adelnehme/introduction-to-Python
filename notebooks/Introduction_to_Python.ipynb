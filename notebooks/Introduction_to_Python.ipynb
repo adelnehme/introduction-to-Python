{
  "nbformat": 4,
  "nbformat_minor": 0,
  "metadata": {
    "colab": {
      "name": "Introduction to Python Learning Session.ipynb",
      "provenance": []
    },
    "kernelspec": {
      "display_name": "Python 3",
      "language": "python",
      "name": "python3"
    },
    "language_info": {
      "codemirror_mode": {
        "name": "ipython",
        "version": 3
      },
      "file_extension": ".py",
      "mimetype": "text/x-python",
      "name": "python",
      "nbconvert_exporter": "python",
      "pygments_lexer": "ipython3",
      "version": "3.7.1"
    }
  },
  "cells": [
    {
      "cell_type": "markdown",
      "metadata": {
        "id": "6Ijg5wUCTQYG"
      },
      "source": [
        "<p align=\"center\">\n",
        "<img src=\"https://github.com/adelnehme/introduction-to-python/blob/master/assets/hsbc_datacamp.png?raw=True\" width=\"65%\">\n",
        "</p>\n",
        "\n",
        "<br>\n",
        "\n",
        "## **Introduction to Python Learning Session**\n",
        "\n",
        "\n",
        "\n",
        "#### **Learning Objectives**\n",
        "\n",
        "- Understand the value of Python on the path to developing data fluency\n",
        "- Import data into Python using `pandas` — Python’s most popular data analysis package\n",
        "- Filter, add new columns, and analyze datasets using pandas\n",
        "- Present data visualizations using `Matplotlib` and `Seaborn` — Python’s most popular data visualization\n",
        "packages\n",
        "- A discussion on the long term benefits and use cases for data work with Python\n",
        "\n",
        "#### **The Dataset**\n",
        "\n",
        "The dataset to be used in this session is a CSV file named `telco_churn.csv`, which contains data on telecom customers churning and some of their key behaviors. It contains the following columns:\n",
        "\n",
        "\n",
        "- `customerID`: Unique identifier of a customer.\n",
        "- `gender`: Gender of customer.\n",
        "- `SeniorCitizen`: Binary variable indicating if customer is senior citizen.\n",
        "- `Partner`: Binary variable if customer has a partner.\n",
        "- `tenure`: Number of weeks as a customer.\n",
        "- `State`: State customer is in\n",
        "- `PhoneService`: Whether customer has phone service.\n",
        "- `MultipleLines`: Whether customer has multiple lines.\n",
        "- `InternetService`: What type of internet service customer has (`\"DSL\"`, `\"Fiber optic\"`, `\"No\"`).\n",
        "- `OnlineSecurity`: Whether customer has online security service.\n",
        "- `OnlineBackup`: Whether customer has online backup service.\n",
        "- `DeviceProtection`: Whether customer has device protection service.\n",
        "- `TechSupport`: Whether customer has tech support service.\n",
        "- `StreamingTV`: Whether customer has TV streaming service.\n",
        "- `StreamingMovies`: Whether customer has movies streaming service.\n",
        "- `PaymentMethod`: Payment method.\n",
        "- `MonthlyCharges`: Amount of monthly charges in $.\n",
        "- `TotalCharges`: Amount of total charges so far.\n",
        "- `Churn`: Whether customer `'Stayed'` or `'Churned'`.\n",
        "\n",
        "\n",
        "#### **Questions to answer**\n",
        "\n",
        "- **Question 1:** What are the number of churners vs non-churners?\n",
        "- **Question 2:** What is the breakdown of tenure distirbution by churners and non-churners?\n",
        "- **Question 3:** What is the average monthly charge for customers in New York?\n",
        "- **Question 4:** What is monthly charge distribution for customers in New York by churn status?"
      ]
    },
    {
      "cell_type": "markdown",
      "metadata": {
        "id": "BMYfcKeDY85K"
      },
      "source": [
        "## **Getting started**"
      ]
    },
    {
      "cell_type": "code",
      "metadata": {
        "id": "EMQfyC7GUNhT"
      },
      "source": [
        "# Import libraries\n",
        "import pandas as pd\n",
        "import matplotlib.pyplot as plt\n",
        "import seaborn as sns"
      ],
      "execution_count": null,
      "outputs": []
    },
    {
      "cell_type": "markdown",
      "metadata": {
        "id": "smK0XDOMv8oA"
      },
      "source": [
        "*To import a CSV file into* `pandas` , *we use*  `data = pd.read_csv(file_path)` *check out this [documentation](https://pandas.pydata.org/pandas-docs/stable/user_guide/io.html) for importing other data types*\n"
      ]
    },
    {
      "cell_type": "code",
      "metadata": {
        "id": "l8t_EwRNZPLB"
      },
      "source": [
        "# Read in the dataset\n",
        "telco = pd.read_csv('https://github.com/adelnehme/introduction-to-python/blob/master/data/telco_churn.csv?raw=true')"
      ],
      "execution_count": null,
      "outputs": []
    },
    {
      "cell_type": "markdown",
      "metadata": {
        "id": "d1G5RybDwLoT"
      },
      "source": [
        "*Some common methods needed to get a better understanding of your DataFrames:*\n",
        "\n",
        "- `data.head()` *prints the first 5 rows*\n",
        "- `data.describe()` *prints the distribution of numeric columns*\n",
        "- `data.info()` *prints the missingness and data types of columns*"
      ]
    },
    {
      "cell_type": "code",
      "metadata": {
        "id": "pU0z39Auwprv"
      },
      "source": [
        "# Inspect header of dataset\n"
      ],
      "execution_count": null,
      "outputs": []
    },
    {
      "cell_type": "code",
      "metadata": {
        "id": "Y_M_kCw6w6cX"
      },
      "source": [
        "# Check description of dataset\n"
      ],
      "execution_count": null,
      "outputs": []
    },
    {
      "cell_type": "code",
      "metadata": {
        "id": "Hj9dx1vLyN6M"
      },
      "source": [
        "# Check information of dataset\n"
      ],
      "execution_count": null,
      "outputs": []
    },
    {
      "cell_type": "markdown",
      "metadata": {
        "id": "yls2Ua9vzVX6"
      },
      "source": [
        "\n",
        "\n",
        "---\n",
        "\n",
        "<center><h1> Q&A 1</h1> </center>\n",
        "\n",
        "---\n",
        "\n",
        "\n",
        "\n"
      ]
    },
    {
      "cell_type": "markdown",
      "metadata": {
        "id": "PlvGwVrCyq_8"
      },
      "source": [
        "## **Data Cleaning**"
      ]
    },
    {
      "cell_type": "markdown",
      "metadata": {
        "id": "7LacdNilzAJx"
      },
      "source": [
        "##### **Task 1:** Remove `$` from `MonthlyCharges` and convert it to `float`\n",
        "\n",
        "_To remove a character from a string column, we can use:_\n",
        "\n",
        "```\n",
        "data['column_name'] = data['column_name'].str.strip(character)\n",
        "```\n",
        "\n",
        "_To convert a numeric column to a float, we can use:_\n",
        "\n",
        "```\n",
        "data['column_name'] = data['column_name'].astype('float')\n",
        "```\n"
      ]
    },
    {
      "cell_type": "code",
      "metadata": {
        "id": "64dzRjvozJ6D"
      },
      "source": [
        "# Strip $ from MonthlyCharges column\n",
        "\n",
        "\n",
        "# Convert MonthlyCharges column to float\n",
        "\n",
        "# Print header again\n"
      ],
      "execution_count": null,
      "outputs": []
    },
    {
      "cell_type": "markdown",
      "metadata": {
        "id": "cfTelZKnchBk"
      },
      "source": [
        "##### **Task 2:** Split `State` into 2 columns\n",
        "\n",
        "_To split a column into 2 columns around `,` — we can use:_\n",
        "\n",
        "```\n",
        "split_data = data['column_name'].str.split(',', expand = True)\n",
        "```\n"
      ]
    },
    {
      "cell_type": "code",
      "metadata": {
        "id": "M6Dd445_cf6q"
      },
      "source": [
        "# Split State column into two\n",
        "\n",
        "\n"
      ],
      "execution_count": null,
      "outputs": []
    },
    {
      "cell_type": "code",
      "metadata": {
        "id": "Td_YPUPBdxW4"
      },
      "source": [
        "# Replace updated State and create Country column\n",
        "\n",
        "\n"
      ],
      "execution_count": null,
      "outputs": []
    },
    {
      "cell_type": "markdown",
      "metadata": {
        "id": "TK062oeazbWO"
      },
      "source": [
        "##### **Task 3:** Drop rows with `CustomerID` missing values\n",
        "\n",
        "_To count and drop missing values in a DataFrame, you can use the following:_\n",
        "\n",
        "- `data.isna().sum()` _to count missing values_\n",
        "- `data.dropna(subset = [column_names])` _drops missing values from specific columns_"
      ]
    },
    {
      "cell_type": "code",
      "metadata": {
        "id": "oZvKyJdZzpvD"
      },
      "source": [
        "# Drop missing values from customerID in Telco\n",
        "\n",
        "\n",
        "# Count missing values again\n"
      ],
      "execution_count": null,
      "outputs": []
    },
    {
      "cell_type": "markdown",
      "metadata": {
        "id": "8Y0G-7OxziZc"
      },
      "source": [
        "##### **Task 4:** Replace missing values in `OnlineSecurity` with `'No'`\n",
        "\n",
        "_To fill missing values in a specific column in a DataFrame, you can use the following:_\n",
        "\n",
        "```\n",
        "data['column_name] = data['column_name].fillna('value') \n",
        "```"
      ]
    },
    {
      "cell_type": "code",
      "metadata": {
        "id": "9TlEILaszakr"
      },
      "source": [
        "# Replace missing values from OnlineSecurity in Telco with 'No'\n",
        "\n",
        "\n",
        "# Count missing values again\n"
      ],
      "execution_count": null,
      "outputs": []
    },
    {
      "cell_type": "markdown",
      "metadata": {
        "id": "biFEI7NK2ZyW"
      },
      "source": [
        "\n",
        "\n",
        "---\n",
        "\n",
        "<center><h1> Q&A 2</h1> </center>\n",
        "\n",
        "---\n",
        "\n",
        "\n",
        "\n"
      ]
    },
    {
      "cell_type": "markdown",
      "metadata": {
        "id": "tTDj6-W32fci"
      },
      "source": [
        "## **Data Analysis and Visualization**"
      ]
    },
    {
      "cell_type": "markdown",
      "metadata": {
        "id": "rR10sci22nUd"
      },
      "source": [
        "**Question 1:** What are the number of churners vs non-churners?\n",
        "\n",
        "_A convenient way of counting differet values in a column using_ `pandas` _is by using:_\n",
        "\n",
        "```\n",
        "data['column_name`].value_counts()\n",
        "```\n",
        "\n",
        "_Note that this method works on **columns** only_"
      ]
    },
    {
      "cell_type": "code",
      "metadata": {
        "id": "yPL7xsCa2mf8"
      },
      "source": [
        "# Count the number of churners vs non-churners\n"
      ],
      "execution_count": null,
      "outputs": []
    },
    {
      "cell_type": "code",
      "metadata": {
        "id": "m-7aiQ1p35ri"
      },
      "source": [
        "# Count the percentage of churners vs non-churners\n"
      ],
      "execution_count": null,
      "outputs": []
    },
    {
      "cell_type": "markdown",
      "metadata": {
        "id": "AMN0MbEh4EnG"
      },
      "source": [
        "_To easily show the count of observations in each category using_ `seaborn` _we can use:_\n",
        "\n",
        "- `sns.countplot(x = , data = )`\n",
        "  - `x`: _categorical column name on x-axis_\n",
        "  - `data`: _data being used_\n",
        "- `plt.title()`:  _sets plot title_\n",
        "- `plt.xlabel()`: _sets x-axis label_\n",
        "- `plt.ylabel()`: _sets y-axis label_\n",
        "- `plt.show()`:  _shows plot_"
      ]
    },
    {
      "cell_type": "code",
      "metadata": {
        "id": "TMsDXzSZ4UvS"
      },
      "source": [
        "# Count the amount of churners vs non-churners\n",
        "\n",
        "\n",
        "# Set titles and labels of plot\n",
        "\n",
        "# Show plot\n"
      ],
      "execution_count": null,
      "outputs": []
    },
    {
      "cell_type": "markdown",
      "metadata": {
        "id": "liNMV1cD5xpT"
      },
      "source": [
        "\n",
        "\n",
        "---\n",
        "\n",
        "<center><h1> Q&A 3</h1> </center>\n",
        "\n",
        "---\n",
        "\n",
        "\n",
        "\n"
      ]
    },
    {
      "cell_type": "markdown",
      "metadata": {
        "id": "CPxZmCqQ4jld"
      },
      "source": [
        "**Question 2:** What is the breakdown of tenure distirbution by churners and non-churners?\n",
        "\n",
        "<p align=\"center\">\n",
        "<img src=\"https://github.com/adelnehme/introduction-to-python/blob/master/assets/boxplot.png?raw=true\" alt = \"boxplot\" width=\"65%\">\n",
        "</p>\n",
        "\n",
        "_To create a boxplot using_ `seaborn` _we can use:_\n",
        "\n",
        "- `sns.boxplot(x = , y = , data = )`\n",
        "  - `x`: _column name on x-axis_\n",
        "  - `y`: _column name on y-axis_\n",
        "  - `data`: _data being used_\n",
        "- `plt.title()`: _sets plot title_\n",
        "- `plt.xlabel()`: _sets x-axis label_\n",
        "- `plt.ylabel()`: _sets y-axis label_\n",
        "- `plt.show()`: _shows plot_"
      ]
    },
    {
      "cell_type": "code",
      "metadata": {
        "id": "q5lrTEYR5UBX"
      },
      "source": [
        "# Set figure size for easy viewing\n",
        "\n",
        "\n",
        "# Create plot\n",
        "\n",
        "# Set titles and labels of plot\n",
        "\n",
        "# Show plot\n"
      ],
      "execution_count": null,
      "outputs": []
    },
    {
      "cell_type": "markdown",
      "metadata": {
        "id": "dMRG7_7f5z4Z"
      },
      "source": [
        "\n",
        "\n",
        "---\n",
        "\n",
        "<center><h1> Q&A 4</h1> </center>\n",
        "\n",
        "---\n",
        "\n",
        "\n",
        "\n"
      ]
    },
    {
      "cell_type": "markdown",
      "metadata": {
        "id": "mb3GLkA96utz"
      },
      "source": [
        "**Question 3:** What is the average monthly charge for customers in New York?\n"
      ]
    },
    {
      "cell_type": "markdown",
      "metadata": {
        "id": "OxmMy48U86G0"
      },
      "source": [
        "*To filter a DataFrame, we can use the* `.loc[]` *method which takes in a row, and a column conditon as such:*\n",
        "\n",
        "```\n",
        "data.loc[row condition, column condition]\n",
        "```\n",
        "\n",
        "*We can isolate based on row conditions only by simply*:\n",
        "\n",
        "```\n",
        "data.loc[row condition]\n",
        "```"
      ]
    },
    {
      "cell_type": "code",
      "metadata": {
        "id": "Zub5PXXWeogv"
      },
      "source": [
        "# Isolate values of telco where State is New York\n",
        "\n"
      ],
      "execution_count": null,
      "outputs": []
    },
    {
      "cell_type": "markdown",
      "metadata": {
        "id": "nhXHfi_Mf53T"
      },
      "source": [
        "**Question 4:** What is monthly charge distribution for customers in New York by churn status?"
      ]
    },
    {
      "cell_type": "code",
      "metadata": {
        "id": "5s_EQKkT6qlD"
      },
      "source": [
        "# Create a telco new york DataFrame\n",
        "\n",
        "\n",
        "# Show output\n"
      ],
      "execution_count": null,
      "outputs": []
    },
    {
      "cell_type": "markdown",
      "metadata": {
        "id": "Ix36BFpX98_z"
      },
      "source": [
        "_To create a boxplot using_ `seaborn` _we can use:_\n",
        "\n",
        "- `sns.boxplot(x = , y = , data = )`\n",
        "  - `x`: _column name on x-axis_\n",
        "  - `y`: _column name on y-axis_\n",
        "  - `data`: _data being used_\n",
        "- `plt.title()`: _sets plot title_\n",
        "- `plt.xlabel()`: _sets x-axis label_\n",
        "- `plt.ylabel()`: _sets y-axis label_\n",
        "- `plt.show()`: _shows plot_"
      ]
    },
    {
      "cell_type": "code",
      "metadata": {
        "id": "n-BAAROo75hX"
      },
      "source": [
        "# Visualize the results\n",
        "\n",
        "\n",
        "# Customize output\n"
      ],
      "execution_count": null,
      "outputs": []
    },
    {
      "cell_type": "markdown",
      "metadata": {
        "id": "7ChZJPuT-3ti"
      },
      "source": [
        "\n",
        "\n",
        "---\n",
        "\n",
        "<center><h1> Q&A 5</h1> </center>\n",
        "\n",
        "---\n",
        "\n",
        "\n",
        "\n"
      ]
    }
  ]
}
